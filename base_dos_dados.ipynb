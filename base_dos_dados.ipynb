{
 "cells": [
  {
   "cell_type": "code",
   "execution_count": 1,
   "metadata": {},
   "outputs": [],
   "source": [
    "#!pip install basedosdados"
   ]
  },
  {
   "cell_type": "code",
   "execution_count": 2,
   "metadata": {},
   "outputs": [],
   "source": [
    "import basedosdados as bd"
   ]
  },
  {
   "cell_type": "code",
   "execution_count": 3,
   "metadata": {},
   "outputs": [],
   "source": [
    "#!pip install oauth2client"
   ]
  },
  {
   "cell_type": "code",
   "execution_count": 4,
   "metadata": {},
   "outputs": [],
   "source": [
    "from oauth2client import client # Added\n",
    "from oauth2client import tools # Added\n",
    "from oauth2client.file import Storage # Added"
   ]
  },
  {
   "cell_type": "code",
   "execution_count": 5,
   "metadata": {},
   "outputs": [],
   "source": [
    "#!pip install google"
   ]
  },
  {
   "cell_type": "code",
   "execution_count": 6,
   "metadata": {},
   "outputs": [],
   "source": [
    "#!pip install google-api-python-client"
   ]
  },
  {
   "cell_type": "code",
   "execution_count": 7,
   "metadata": {},
   "outputs": [],
   "source": [
    "import google as google"
   ]
  },
  {
   "cell_type": "code",
   "execution_count": 8,
   "metadata": {},
   "outputs": [],
   "source": [
    "from googleapiclient import discovery"
   ]
  },
  {
   "cell_type": "code",
   "execution_count": 9,
   "metadata": {},
   "outputs": [],
   "source": [
    "from google_auth_oauthlib.flow import InstalledAppFlow\n",
    "from googleapiclient.discovery import build"
   ]
  },
  {
   "cell_type": "code",
   "execution_count": 10,
   "metadata": {},
   "outputs": [],
   "source": [
    "CLIENT_SECRETS_FILE = 'client_secret_861947632476-tp0lcfq2gvgu23in0s6mked02gjglgbq.apps.googleusercontent.com.json'\n",
    "API_SERVICE_NAME = 'phrasal-fire-372513'\n",
    "API_VERSION = \"v1\""
   ]
  },
  {
   "cell_type": "code",
   "execution_count": 11,
   "metadata": {},
   "outputs": [],
   "source": [
    "def get_authenticated_service():\n",
    "    try:\n",
    "        credentials = google.oauth2.credentials.Credentials.from_authorized_user_file(CLIENT_SECRETS_FILE)\n",
    "    except ValueError as e: # first run with new secret.json (no refresh_token yet)\n",
    "        flow = InstalledAppFlow.from_client_secrets_file(CLIENT_SECRETS_FILE, scopes=['profile'])\n",
    "        credentials = flow.run_console()\n",
    "        with open(CLIENT_SECRETS_FILE, 'w') as file:\n",
    "            file.write(credentials.to_json())\n",
    "    return build(API_SERVICE_NAME, API_VERSION, credentials=credentials)"
   ]
  },
  {
   "cell_type": "code",
   "execution_count": 12,
   "metadata": {},
   "outputs": [],
   "source": [
    "#get_authenticated_service()"
   ]
  },
  {
   "cell_type": "code",
   "execution_count": 13,
   "metadata": {},
   "outputs": [],
   "source": [
    "# Para carregar o dado direto no pandas (muito grande a base)\n",
    "#df = bd.read_table(dataset_id='br_imprensa_nacional_dou',\n",
    "#table_id='secao_1',\n",
    "#billing_project_id=\"aerobic-ward-372414\")"
   ]
  },
  {
   "cell_type": "code",
   "execution_count": 15,
   "metadata": {},
   "outputs": [
    {
     "name": "stderr",
     "output_type": "stream",
     "text": [
      "Downloading: 100%|██████████| 12/12 [00:02<00:00,  5.52rows/s]\n"
     ]
    }
   ],
   "source": [
    "# Para carregar usando uma query\n",
    "df = bd.read_sql(billing_project_id='phrasal-fire-372513',\n",
    "query='SELECT * FROM basedosdados.br_imprensa_nacional_dou.secao_1 where data_publicacao > \"2022-12-01\" and titulo like \"%CONSULTA PÚBLICA%\"')"
   ]
  },
  {
   "cell_type": "code",
   "execution_count": 16,
   "metadata": {},
   "outputs": [
    {
     "data": {
      "text/html": [
       "<div>\n",
       "<style scoped>\n",
       "    .dataframe tbody tr th:only-of-type {\n",
       "        vertical-align: middle;\n",
       "    }\n",
       "\n",
       "    .dataframe tbody tr th {\n",
       "        vertical-align: top;\n",
       "    }\n",
       "\n",
       "    .dataframe thead th {\n",
       "        text-align: right;\n",
       "    }\n",
       "</style>\n",
       "<table border=\"1\" class=\"dataframe\">\n",
       "  <thead>\n",
       "    <tr style=\"text-align: right;\">\n",
       "      <th></th>\n",
       "      <th>titulo</th>\n",
       "      <th>orgao</th>\n",
       "      <th>ementa</th>\n",
       "      <th>excerto</th>\n",
       "      <th>texto_principal</th>\n",
       "      <th>texto_completo</th>\n",
       "      <th>assinatura</th>\n",
       "      <th>cargo</th>\n",
       "      <th>secao</th>\n",
       "      <th>edicao</th>\n",
       "      <th>tipo_edicao</th>\n",
       "      <th>pagina</th>\n",
       "      <th>data_publicacao</th>\n",
       "      <th>url</th>\n",
       "      <th>url_versao_certificada</th>\n",
       "      <th>data_captura</th>\n",
       "      <th>data_publicacao_particao</th>\n",
       "    </tr>\n",
       "  </thead>\n",
       "  <tbody>\n",
       "    <tr>\n",
       "      <th>0</th>\n",
       "      <td>CONSULTA PÚBLICA Nº 80, DE 5 DE DEZEMBRO DE 2022</td>\n",
       "      <td>Ministério das Comunicações/Agência Nacional d...</td>\n",
       "      <td>None</td>\n",
       "      <td>Brasão do Brasil Diário Oficial da União Publi...</td>\n",
       "      <td>O SUPERINTENDENTE DE OUTORGA E RECURSOS À PRE...</td>\n",
       "      <td>Brasão do Brasil Diário Oficial da União Publi...</td>\n",
       "      <td>Vinicius Oliveira Caram Guimarães</td>\n",
       "      <td>None</td>\n",
       "      <td>1</td>\n",
       "      <td>231</td>\n",
       "      <td>Ordinária</td>\n",
       "      <td>63</td>\n",
       "      <td>2022-12-09</td>\n",
       "      <td>http://www.in.gov.br/web/dou/-/consulta-public...</td>\n",
       "      <td>http://pesquisa.in.gov.br/imprensa/jsp/visuali...</td>\n",
       "      <td>2022-12-09 05:35:16+00:00</td>\n",
       "      <td>2022-12-09</td>\n",
       "    </tr>\n",
       "    <tr>\n",
       "      <th>1</th>\n",
       "      <td>CONSULTA PÚBLICA Nº 27, DE 6 DE DEZEMBRO DE 2022</td>\n",
       "      <td>Ministério da Saúde/Gabinete do Ministro</td>\n",
       "      <td>None</td>\n",
       "      <td>Brasão do Brasil Diário Oficial da União Publi...</td>\n",
       "      <td>O MINISTRO DE ESTADO DA SAÚDE torna pública, ...</td>\n",
       "      <td>Brasão do Brasil Diário Oficial da União Publi...</td>\n",
       "      <td>MARCELO ANTÔNIO CARTAXO QUEIROGA LOPES</td>\n",
       "      <td>None</td>\n",
       "      <td>1</td>\n",
       "      <td>229</td>\n",
       "      <td>Ordinária</td>\n",
       "      <td>159</td>\n",
       "      <td>2022-12-07</td>\n",
       "      <td>http://www.in.gov.br/web/dou/-/consulta-public...</td>\n",
       "      <td>http://pesquisa.in.gov.br/imprensa/jsp/visuali...</td>\n",
       "      <td>2022-12-07 06:42:29+00:00</td>\n",
       "      <td>2022-12-07</td>\n",
       "    </tr>\n",
       "    <tr>\n",
       "      <th>2</th>\n",
       "      <td>CONSULTA PÚBLICA Nº 73, DE 4 DE OUTUBRO DE 2022</td>\n",
       "      <td>Ministério das Comunicações/Agência Nacional d...</td>\n",
       "      <td>None</td>\n",
       "      <td>Brasão do Brasil Diário Oficial da União Publi...</td>\n",
       "      <td>O SUPERINTENDENTE DE OUTORGA E RECURSOS À PRE...</td>\n",
       "      <td>Brasão do Brasil Diário Oficial da União Publi...</td>\n",
       "      <td>VINICIUS OLIVEIRA CARAM GUIMARÃES</td>\n",
       "      <td>None</td>\n",
       "      <td>1</td>\n",
       "      <td>237</td>\n",
       "      <td>Ordinária</td>\n",
       "      <td>35</td>\n",
       "      <td>2022-12-19</td>\n",
       "      <td>http://www.in.gov.br/web/dou/-/consulta-public...</td>\n",
       "      <td>http://pesquisa.in.gov.br/imprensa/jsp/visuali...</td>\n",
       "      <td>2022-12-19 07:02:13+00:00</td>\n",
       "      <td>2022-12-19</td>\n",
       "    </tr>\n",
       "    <tr>\n",
       "      <th>3</th>\n",
       "      <td>CONSULTA PÚBLICA Nº 38, DE 13 DE DEZEMBRO DE 2022</td>\n",
       "      <td>Ministério da Economia/Secretaria Especial de ...</td>\n",
       "      <td>None</td>\n",
       "      <td>Brasão do Brasil Diário Oficial da União Publi...</td>\n",
       "      <td>A Secretaria de Desenvolvimento da Indústria,...</td>\n",
       "      <td>Brasão do Brasil Diário Oficial da União Publi...</td>\n",
       "      <td>GLENDA BEZERRA LUSTOSA</td>\n",
       "      <td>None</td>\n",
       "      <td>1</td>\n",
       "      <td>234</td>\n",
       "      <td>Ordinária</td>\n",
       "      <td>36</td>\n",
       "      <td>2022-12-14</td>\n",
       "      <td>http://www.in.gov.br/web/dou/-/consulta-public...</td>\n",
       "      <td>http://pesquisa.in.gov.br/imprensa/jsp/visuali...</td>\n",
       "      <td>2022-12-14 07:35:50+00:00</td>\n",
       "      <td>2022-12-14</td>\n",
       "    </tr>\n",
       "    <tr>\n",
       "      <th>4</th>\n",
       "      <td>CONSULTA PÚBLICA Nº 39, DE 13 DE DEZEMBRO DE 2022</td>\n",
       "      <td>Ministério da Economia/Secretaria Especial de ...</td>\n",
       "      <td>None</td>\n",
       "      <td>Brasão do Brasil Diário Oficial da União Publi...</td>\n",
       "      <td>A Secretaria de Desenvolvimento da Indústria,...</td>\n",
       "      <td>Brasão do Brasil Diário Oficial da União Publi...</td>\n",
       "      <td>None</td>\n",
       "      <td>GLENDA BEZERRA LUSTOSA</td>\n",
       "      <td>1</td>\n",
       "      <td>234</td>\n",
       "      <td>Ordinária</td>\n",
       "      <td>36</td>\n",
       "      <td>2022-12-14</td>\n",
       "      <td>http://www.in.gov.br/web/dou/-/consulta-public...</td>\n",
       "      <td>http://pesquisa.in.gov.br/imprensa/jsp/visuali...</td>\n",
       "      <td>2022-12-14 07:33:32+00:00</td>\n",
       "      <td>2022-12-14</td>\n",
       "    </tr>\n",
       "  </tbody>\n",
       "</table>\n",
       "</div>"
      ],
      "text/plain": [
       "                                              titulo  \\\n",
       "0   CONSULTA PÚBLICA Nº 80, DE 5 DE DEZEMBRO DE 2022   \n",
       "1   CONSULTA PÚBLICA Nº 27, DE 6 DE DEZEMBRO DE 2022   \n",
       "2    CONSULTA PÚBLICA Nº 73, DE 4 DE OUTUBRO DE 2022   \n",
       "3  CONSULTA PÚBLICA Nº 38, DE 13 DE DEZEMBRO DE 2022   \n",
       "4  CONSULTA PÚBLICA Nº 39, DE 13 DE DEZEMBRO DE 2022   \n",
       "\n",
       "                                               orgao ementa  \\\n",
       "0  Ministério das Comunicações/Agência Nacional d...   None   \n",
       "1           Ministério da Saúde/Gabinete do Ministro   None   \n",
       "2  Ministério das Comunicações/Agência Nacional d...   None   \n",
       "3  Ministério da Economia/Secretaria Especial de ...   None   \n",
       "4  Ministério da Economia/Secretaria Especial de ...   None   \n",
       "\n",
       "                                             excerto  \\\n",
       "0  Brasão do Brasil Diário Oficial da União Publi...   \n",
       "1  Brasão do Brasil Diário Oficial da União Publi...   \n",
       "2  Brasão do Brasil Diário Oficial da União Publi...   \n",
       "3  Brasão do Brasil Diário Oficial da União Publi...   \n",
       "4  Brasão do Brasil Diário Oficial da União Publi...   \n",
       "\n",
       "                                     texto_principal  \\\n",
       "0   O SUPERINTENDENTE DE OUTORGA E RECURSOS À PRE...   \n",
       "1   O MINISTRO DE ESTADO DA SAÚDE torna pública, ...   \n",
       "2   O SUPERINTENDENTE DE OUTORGA E RECURSOS À PRE...   \n",
       "3   A Secretaria de Desenvolvimento da Indústria,...   \n",
       "4   A Secretaria de Desenvolvimento da Indústria,...   \n",
       "\n",
       "                                      texto_completo  \\\n",
       "0  Brasão do Brasil Diário Oficial da União Publi...   \n",
       "1  Brasão do Brasil Diário Oficial da União Publi...   \n",
       "2  Brasão do Brasil Diário Oficial da União Publi...   \n",
       "3  Brasão do Brasil Diário Oficial da União Publi...   \n",
       "4  Brasão do Brasil Diário Oficial da União Publi...   \n",
       "\n",
       "                               assinatura                   cargo  secao  \\\n",
       "0       Vinicius Oliveira Caram Guimarães                    None      1   \n",
       "1  MARCELO ANTÔNIO CARTAXO QUEIROGA LOPES                    None      1   \n",
       "2       VINICIUS OLIVEIRA CARAM GUIMARÃES                    None      1   \n",
       "3                  GLENDA BEZERRA LUSTOSA                    None      1   \n",
       "4                                    None  GLENDA BEZERRA LUSTOSA      1   \n",
       "\n",
       "  edicao tipo_edicao pagina data_publicacao  \\\n",
       "0    231   Ordinária     63      2022-12-09   \n",
       "1    229   Ordinária    159      2022-12-07   \n",
       "2    237   Ordinária     35      2022-12-19   \n",
       "3    234   Ordinária     36      2022-12-14   \n",
       "4    234   Ordinária     36      2022-12-14   \n",
       "\n",
       "                                                 url  \\\n",
       "0  http://www.in.gov.br/web/dou/-/consulta-public...   \n",
       "1  http://www.in.gov.br/web/dou/-/consulta-public...   \n",
       "2  http://www.in.gov.br/web/dou/-/consulta-public...   \n",
       "3  http://www.in.gov.br/web/dou/-/consulta-public...   \n",
       "4  http://www.in.gov.br/web/dou/-/consulta-public...   \n",
       "\n",
       "                              url_versao_certificada  \\\n",
       "0  http://pesquisa.in.gov.br/imprensa/jsp/visuali...   \n",
       "1  http://pesquisa.in.gov.br/imprensa/jsp/visuali...   \n",
       "2  http://pesquisa.in.gov.br/imprensa/jsp/visuali...   \n",
       "3  http://pesquisa.in.gov.br/imprensa/jsp/visuali...   \n",
       "4  http://pesquisa.in.gov.br/imprensa/jsp/visuali...   \n",
       "\n",
       "               data_captura data_publicacao_particao  \n",
       "0 2022-12-09 05:35:16+00:00               2022-12-09  \n",
       "1 2022-12-07 06:42:29+00:00               2022-12-07  \n",
       "2 2022-12-19 07:02:13+00:00               2022-12-19  \n",
       "3 2022-12-14 07:35:50+00:00               2022-12-14  \n",
       "4 2022-12-14 07:33:32+00:00               2022-12-14  "
      ]
     },
     "execution_count": 16,
     "metadata": {},
     "output_type": "execute_result"
    }
   ],
   "source": [
    "df.head()"
   ]
  }
 ],
 "metadata": {
  "kernelspec": {
   "display_name": "Python 3",
   "language": "python",
   "name": "python3"
  },
  "language_info": {
   "codemirror_mode": {
    "name": "ipython",
    "version": 3
   },
   "file_extension": ".py",
   "mimetype": "text/x-python",
   "name": "python",
   "nbconvert_exporter": "python",
   "pygments_lexer": "ipython3",
   "version": "3.9.5 (tags/v3.9.5:0a7dcbd, May  3 2021, 17:27:52) [MSC v.1928 64 bit (AMD64)]"
  },
  "orig_nbformat": 4,
  "vscode": {
   "interpreter": {
    "hash": "554ef14eddd5a3365ce30b95efe1008699241d06631a67d182d092c436b96944"
   }
  }
 },
 "nbformat": 4,
 "nbformat_minor": 2
}
